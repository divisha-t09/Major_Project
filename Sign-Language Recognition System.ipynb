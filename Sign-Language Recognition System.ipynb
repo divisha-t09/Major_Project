{
  "cells": [
    {
      "attachments": {},
      "cell_type": "markdown",
      "metadata": {
        "id": "-wu4tUkY-Ko7"
      },
      "source": [
        "# Sign-Language Recognition System\n",
        "\n",
        "**About :** The data set is a collection of images of alphabets from the American Sign Language, separated in 29 folders which represent the various classes.\n",
        "\n",
        "**Content :** The training data set contains 87,000 images which are 200x200 pixels. There are 29 classes, of which 26 are for the letters A-Z and 3 classes for SPACE, DELETE and NOTHING.\n",
        "These 3 classes are very helpful in real-time applications, and classification.\n",
        "The test data set contains a mere 29 images, to encourage the use of real-world test images.\n",
        "\n",
        "![IMG](https://i.ibb.co/RD6dqqs/download.png)"
      ]
    },
    {
      "cell_type": "code",
      "execution_count": null,
      "metadata": {
        "id": "i8EX8P59-C8X"
      },
      "outputs": [],
      "source": [
        "from google.colab import files\n",
        "files.upload()"
      ]
    },
    {
      "cell_type": "code",
      "execution_count": null,
      "metadata": {
        "colab": {
          "base_uri": "https://localhost:8080/"
        },
        "id": "6Xtma_78_AUC",
        "outputId": "cdf8d489-b291-4bac-9485-55fdfc176e7f"
      },
      "outputs": [],
      "source": [
        "# Getting the dataset using Kaggle API\n",
        "! mkdir ~/.kaggle\n",
        "! cp kaggle.json ~/.kaggle/\n",
        "! chmod 600 ~/.kaggle/kaggle.json\n",
        "! kaggle datasets download -d grassknoted/asl-alphabet"
      ]
    },
    {
      "cell_type": "code",
      "execution_count": null,
      "metadata": {
        "colab": {
          "base_uri": "https://localhost:8080/"
        },
        "id": "-kHNIFBIPZPX",
        "outputId": "3bb6b1c3-a210-4489-ae05-c341f2e49958"
      },
      "outputs": [],
      "source": [
        "!nvidia-smi -L"
      ]
    },
    {
      "cell_type": "code",
      "execution_count": null,
      "metadata": {
        "colab": {
          "base_uri": "https://localhost:8080/"
        },
        "id": "nPk8IZC3_Ht8",
        "outputId": "bd080d3f-98fa-418f-8df4-9adca50b3402"
      },
      "outputs": [],
      "source": [
        "# downloading helper_functions.py\n",
        "! wget helper_functions.py"
      ]
    },
    {
      "attachments": {},
      "cell_type": "markdown",
      "metadata": {
        "id": "AsS_WPfyAI7t"
      },
      "source": [
        "## Importing Dependancies"
      ]
    },
    {
      "cell_type": "code",
      "execution_count": null,
      "metadata": {
        "id": "RxLjQYDP_Ref"
      },
      "outputs": [],
      "source": [
        "# Importing Dependancies\n",
        "import os\n",
        "import random\n",
        "import numpy as np\n",
        "import pandas as pd\n",
        "import tensorflow as tf\n",
        "import matplotlib.pyplot as plt\n",
        "\n",
        "from tensorflow.keras.preprocessing.image import ImageDataGenerator\n",
        "from helper_functions import unzip_data, walk_through_dir, plot_loss_curves, confusion_matrix, make_confusion_matrix"
      ]
    },
    {
      "cell_type": "code",
      "execution_count": null,
      "metadata": {
        "id": "i4LqHZRC_R5f"
      },
      "outputs": [],
      "source": [
        "# Unzipping our data\n",
        "unzip_data(\"/content/asl-alphabet.zip\")"
      ]
    },
    {
      "cell_type": "code",
      "execution_count": null,
      "metadata": {
        "id": "Tg7cX6bC_zU6"
      },
      "outputs": [],
      "source": [
        "# To delete the zip file\n",
        "!rm asl-alphabet.zip"
      ]
    },
    {
      "cell_type": "code",
      "execution_count": null,
      "metadata": {
        "colab": {
          "base_uri": "https://localhost:8080/"
        },
        "id": "a-p6wlRB_wkk",
        "outputId": "19eb6e0e-ca35-4d45-f393-bcf6900c5e83"
      },
      "outputs": [],
      "source": [
        "# Walkthrough Directories (Train Dataset)\n",
        "walk_through_dir(\"/content/asl_alphabet_train\")"
      ]
    },
    {
      "cell_type": "code",
      "execution_count": null,
      "metadata": {
        "colab": {
          "base_uri": "https://localhost:8080/"
        },
        "id": "oZ4bHUrBAjg0",
        "outputId": "df4132a8-65fc-48a7-988e-d22e339dc73b"
      },
      "outputs": [],
      "source": [
        "# Walkthrough Directories (Test Dataset)\n",
        "walk_through_dir(\"/content/asl_alphabet_test\")"
      ]
    },
    {
      "attachments": {},
      "cell_type": "markdown",
      "metadata": {
        "id": "O7tUpYPTE8SZ"
      },
      "source": [
        "## Plotting images from our train dataset"
      ]
    },
    {
      "cell_type": "code",
      "execution_count": null,
      "metadata": {
        "colab": {
          "base_uri": "https://localhost:8080/",
          "height": 264
        },
        "id": "H508HEyiAw1B",
        "outputId": "42264bd9-a772-4b7e-bf5e-f622fbce9f1b"
      },
      "outputs": [],
      "source": [
        "# Plotting a random image from the train dataset\n",
        "random_class = \"/content/asl_alphabet_train/asl_alphabet_train/\" + random.choice(os.listdir(\"/content/asl_alphabet_train/asl_alphabet_train\"))\n",
        "random_filepath = random_class + \"/\" + random.choice(os.listdir(random_class))\n",
        "img = plt.imread(random_filepath)\n",
        "label = random_filepath.split(\"/\")[4]\n",
        "plt.imshow(img/255)\n",
        "plt.axis(False)\n",
        "plt.title(label, color=\"green\"); "
      ]
    },
    {
      "cell_type": "code",
      "execution_count": null,
      "metadata": {
        "colab": {
          "base_uri": "https://localhost:8080/",
          "height": 699
        },
        "id": "FVqu39cFC5Lu",
        "outputId": "c0aa6338-924e-4680-b4fe-edb0493cb705"
      },
      "outputs": [],
      "source": [
        "# Plot multiple random images from the dataset\n",
        "plt.figure(figsize=(17,12))\n",
        "for i in range(12):\n",
        "  random_class = \"/content/asl_alphabet_train/asl_alphabet_train/\" + random.choice(os.listdir(\"/content/asl_alphabet_train/asl_alphabet_train\"))\n",
        "  random_filepath = random_class + \"/\" + random.choice(os.listdir(random_class))\n",
        "  img = plt.imread(random_filepath)\n",
        "  label = random_filepath.split(\"/\")[4]\n",
        "\n",
        "  plt.subplot(3, 4, i+1)\n",
        "  plt.axis(False)\n",
        "  plt.title(label, color=\"green\")\n",
        "  plt.imshow(img/255);"
      ]
    },
    {
      "attachments": {},
      "cell_type": "markdown",
      "metadata": {
        "id": "sL1zZBBwFD4O"
      },
      "source": [
        "## Preparing data for training the model"
      ]
    },
    {
      "cell_type": "code",
      "execution_count": null,
      "metadata": {
        "id": "jsvvgM66Dv5w"
      },
      "outputs": [],
      "source": [
        "data_gen = ImageDataGenerator(validation_split=0.2)"
      ]
    },
    {
      "cell_type": "code",
      "execution_count": null,
      "metadata": {
        "colab": {
          "base_uri": "https://localhost:8080/"
        },
        "id": "1AqFY_jyFtP_",
        "outputId": "022b852c-a908-40f0-d7f2-93f497918231"
      },
      "outputs": [],
      "source": [
        "# Creating train dataset\n",
        "train_data = data_gen.flow_from_directory(directory=\"/content/asl_alphabet_train/asl_alphabet_train\",\n",
        "                                          batch_size=32,\n",
        "                                          seed=42,\n",
        "                                          subset=\"training\",\n",
        "                                          target_size=(200, 200))\n",
        "\n",
        "# Creating validation dataset\n",
        "val_data = data_gen.flow_from_directory(directory=\"/content/asl_alphabet_train/asl_alphabet_train\",\n",
        "                                        batch_size=32,\n",
        "                                        seed=42,\n",
        "                                        subset=\"validation\",\n",
        "                                        target_size=(200, 200))"
      ]
    },
    {
      "cell_type": "code",
      "execution_count": null,
      "metadata": {
        "colab": {
          "base_uri": "https://localhost:8080/"
        },
        "id": "IEnqdl4NHAs0",
        "outputId": "8ff6fca6-ef1a-41b9-a052-d2cc751d8fd2"
      },
      "outputs": [],
      "source": [
        "len(train_data), len(val_data)"
      ]
    },
    {
      "attachments": {},
      "cell_type": "markdown",
      "metadata": {
        "id": "et9ymkJULn_t"
      },
      "source": [
        "## Building the Model"
      ]
    },
    {
      "cell_type": "code",
      "execution_count": null,
      "metadata": {
        "colab": {
          "base_uri": "https://localhost:8080/"
        },
        "id": "o5OxGtkxLrGW",
        "outputId": "1d374015-c52a-422d-8478-635ec23ddf19"
      },
      "outputs": [],
      "source": [
        "# Creating base model\n",
        "base_model = tf.keras.applications.EfficientNetB0(include_top=False)\n",
        "base_model.trainable = False\n",
        "\n",
        "# Building the model\n",
        "inputs = tf.keras.Input(shape=(200, 200, 3), name=\"input_layer\")\n",
        "x = base_model(inputs, training=False)\n",
        "x = tf.keras.layers.GlobalAveragePooling2D(name=\"global_average_pooling\")(x)\n",
        "outputs = tf.keras.layers.Dense(len(train_data.class_indices), activation=\"softmax\", name=\"output_layer\")(x)\n",
        "model_1 = tf.keras.Model(inputs, outputs)\n",
        "\n",
        "# Compiling the model\n",
        "model_1.compile(loss=\"categorical_crossentropy\",\n",
        "                optimizer=tf.keras.optimizers.Adam(),\n",
        "                metrics=[\"accuracy\"])"
      ]
    },
    {
      "cell_type": "code",
      "execution_count": null,
      "metadata": {
        "colab": {
          "base_uri": "https://localhost:8080/"
        },
        "id": "7kX0KgN1LrDw",
        "outputId": "56c1664b-6f6d-4a7e-fc5f-77e1fb34a4fc"
      },
      "outputs": [],
      "source": [
        "model_1.summary()"
      ]
    },
    {
      "cell_type": "code",
      "execution_count": null,
      "metadata": {
        "colab": {
          "base_uri": "https://localhost:8080/"
        },
        "id": "NW2bzHWaOD_e",
        "outputId": "eacdb48e-687b-40d4-a36e-86d81040427e"
      },
      "outputs": [],
      "source": [
        "# Fit the model\n",
        "history_1 = model_1.fit(train_data,\n",
        "                        epochs=5,\n",
        "                        batch_size=32,\n",
        "                        validation_data=val_data,\n",
        "                        callbacks=[tf.keras.callbacks.ModelCheckpoint(\"/content/drive/MyDrive/ASL-Model\",\n",
        "                                                                      monitor=\"accuracy\",\n",
        "                                                                      save_best_only=False)])"
      ]
    },
    {
      "cell_type": "code",
      "execution_count": null,
      "metadata": {
        "colab": {
          "base_uri": "https://localhost:8080/"
        },
        "id": "Q-aBxZSYPQ2m",
        "outputId": "21f9998f-9c54-4e8b-ca15-064c432d95d4"
      },
      "outputs": [],
      "source": [
        "# Loading in the best_model\n",
        "model = tf.keras.models.load_model(\"/content/drive/MyDrive/ASL-Model\")\n",
        "model.evaluate(val_data)"
      ]
    },
    {
      "cell_type": "code",
      "execution_count": null,
      "metadata": {
        "colab": {
          "base_uri": "https://localhost:8080/",
          "height": 573
        },
        "id": "-hl2Sw6-YtPP",
        "outputId": "07a6f69c-f2de-4b46-f5c9-893d0eb8abcd"
      },
      "outputs": [],
      "source": [
        "plot_loss_curves(history_1)"
      ]
    },
    {
      "attachments": {},
      "cell_type": "markdown",
      "metadata": {
        "id": "-A3SHSnh8N2S"
      },
      "source": [
        "## Making predictions on the Model"
      ]
    },
    {
      "cell_type": "code",
      "execution_count": null,
      "metadata": {
        "colab": {
          "base_uri": "https://localhost:8080/"
        },
        "id": "vrffWTIt9Tso",
        "outputId": "962ac2e4-c404-4458-8b53-c26559a5aca6"
      },
      "outputs": [],
      "source": [
        "# Validation file names\n",
        "val_filenames = val_data.filepaths\n",
        "val_filenames[:5]"
      ]
    },
    {
      "cell_type": "code",
      "execution_count": null,
      "metadata": {
        "colab": {
          "base_uri": "https://localhost:8080/"
        },
        "id": "iMh3YkoA9TqT",
        "outputId": "02c8c7c4-fa8b-4160-91ed-98166b814e58"
      },
      "outputs": [],
      "source": [
        "# Generating val labels\n",
        "val_labels = []\n",
        "for fp in val_filenames:\n",
        "  val_labels.append(fp.split(\"/\")[4])\n",
        "\n",
        "val_labels[:5]"
      ]
    },
    {
      "cell_type": "code",
      "execution_count": null,
      "metadata": {
        "colab": {
          "base_uri": "https://localhost:8080/",
          "height": 206
        },
        "id": "hzsyi5dO9Tn5",
        "outputId": "8773c514-1aac-4cf6-d71b-5cc83647286f"
      },
      "outputs": [],
      "source": [
        "# Making a Dataframe to store all these values\n",
        "val_df = pd.DataFrame({\"filepaths\": val_file_paths,\n",
        "                       \"label\": val_labels})\n",
        "val_df.head()"
      ]
    },
    {
      "cell_type": "code",
      "execution_count": null,
      "metadata": {
        "colab": {
          "base_uri": "https://localhost:8080/"
        },
        "id": "ewiVz9cA_Myh",
        "outputId": "a16a5101-3d50-40ae-b281-f4b9c17a705d"
      },
      "outputs": [],
      "source": [
        "data_gen = ImageDataGenerator()\n",
        "val_data_df = data_gen.flow_from_dataframe(val_df,\n",
        "                                           directory=\"/content/asl_alphabet_train\",\n",
        "                                           x_col=\"filepaths\",\n",
        "                                           y_col=\"label\",\n",
        "                                           target_size=(200, 200),\n",
        "                                           shuffle=False)\n",
        "len(val_data_df)"
      ]
    },
    {
      "cell_type": "code",
      "execution_count": null,
      "metadata": {
        "colab": {
          "base_uri": "https://localhost:8080/"
        },
        "id": "ipwa9ETk_1mk",
        "outputId": "cd8573a0-6dfe-4f2d-b049-6848a3366fdb"
      },
      "outputs": [],
      "source": [
        "# Making predictions on model\n",
        "val_pred_prob = model.predict(val_data_df)\n",
        "val_pred_prob[:5]"
      ]
    },
    {
      "cell_type": "code",
      "execution_count": null,
      "metadata": {
        "colab": {
          "base_uri": "https://localhost:8080/"
        },
        "id": "sqPlMoDsACZ2",
        "outputId": "f0fde50c-4b50-4b19-fba9-fdc62ce0fccb"
      },
      "outputs": [],
      "source": [
        "# Predictions class wise\n",
        "val_preds = tf.argmax(val_pred_prob, axis=1)\n",
        "val_preds[:5]"
      ]
    },
    {
      "cell_type": "code",
      "execution_count": null,
      "metadata": {
        "colab": {
          "base_uri": "https://localhost:8080/"
        },
        "id": "OxolDkxmAmyR",
        "outputId": "b416db50-7f43-465d-fef9-41049c946a11"
      },
      "outputs": [],
      "source": [
        "# Generating class names\n",
        "classes = []\n",
        "for class_ in train_data.class_indices.keys():\n",
        "  classes.append(class_)\n",
        "\n",
        "len(classes)"
      ]
    },
    {
      "cell_type": "code",
      "execution_count": null,
      "metadata": {
        "colab": {
          "base_uri": "https://localhost:8080/"
        },
        "id": "reeXO7T4J90e",
        "outputId": "cca60570-a847-41e2-ac24-ae6e12ba1fbe"
      },
      "outputs": [],
      "source": [
        "classes"
      ]
    },
    {
      "cell_type": "code",
      "execution_count": null,
      "metadata": {
        "id": "bCsPuPi4GXTx"
      },
      "outputs": [],
      "source": [
        "# To plot the sign lingual of the correspoding character\n",
        "def plot_letter(letter_1=\"A\", letter_2=\"B\"):\n",
        "  \"\"\"\n",
        "  Plots 2 random sign lingual image of the \n",
        "  characters you pass. including 'nothing',\n",
        "  'del', 'space'\n",
        "\n",
        "  default -> 'A', 'B'\n",
        "  \"\"\"\n",
        "  dir = \"/content/asl_alphabet_train/asl_alphabet_train\"\n",
        "  fp_1 = dir + \"/\" + letter_1 + \"/\" + random.choice(os.listdir(dir + \"/\" + letter_1))\n",
        "  fp_2 = dir + \"/\" + letter_2 + \"/\" + random.choice(os.listdir(dir + \"/\" + letter_2))\n",
        "  img1 = plt.imread(fp_1)\n",
        "  img2 = plt.imread(fp_2)\n",
        "\n",
        "  # Plotting\n",
        "  plt.figure(figsize=(10, 7))\n",
        "  plt.subplot(1, 2, 1)\n",
        "  plt.imshow(img1)\n",
        "  plt.axis(False)\n",
        "  plt.title(letter_1, color=\"green\")\n",
        "\n",
        "  plt.subplot(1, 2, 2)\n",
        "  plt.imshow(img2)\n",
        "  plt.axis(False)\n",
        "  plt.title(letter_2, color=\"green\");"
      ]
    },
    {
      "cell_type": "code",
      "execution_count": null,
      "metadata": {
        "colab": {
          "base_uri": "https://localhost:8080/",
          "height": 301
        },
        "id": "0vzJ6F2ZHwVS",
        "outputId": "6be468cf-4189-4cbe-82d2-9168d06c29fa"
      },
      "outputs": [],
      "source": [
        "# Plot random letter\n",
        "plot_letter()"
      ]
    },
    {
      "attachments": {},
      "cell_type": "markdown",
      "metadata": {
        "id": "LSmo_QvPCCRL"
      },
      "source": [
        "## Plotting Predictions "
      ]
    },
    {
      "cell_type": "code",
      "execution_count": null,
      "metadata": {
        "colab": {
          "base_uri": "https://localhost:8080/",
          "height": 714
        },
        "id": "MFGLtBjACBXJ",
        "outputId": "92435176-f785-4def-86cd-77d072613793"
      },
      "outputs": [],
      "source": [
        "# Plotting the predictions made by the model\n",
        "random_arr = random.sample(range(len(val_file_paths)), 12)\n",
        "plt.figure(figsize=(17, 12))\n",
        "for i in range(12):\n",
        "  # Getting the img\n",
        "  img = val_file_paths[random_arr[i]]\n",
        "  label = val_labels[random_arr[i]]\n",
        "  prob = np.max(val_pred_prob[random_arr[i]])\n",
        "  pred = classes[val_preds[random_arr[i]]]\n",
        "  _title_ = f\"Actual: {label}, \\nPred: {pred}, Prob: {prob:.2f}\"\n",
        "  col = \"green\" if label == pred else \"red\"\n",
        "\n",
        "  # plotting the imgs\n",
        "  plt.subplot(3, 4, i+1)\n",
        "  img = plt.imread(img)\n",
        "  plt.imshow(img)\n",
        "  plt.axis(False)\n",
        "  plt.title(_title_, color=col);"
      ]
    },
    {
      "attachments": {},
      "cell_type": "markdown",
      "metadata": {
        "id": "FqPCJxrRJHdw"
      },
      "source": [
        "## Wrong Images"
      ]
    },
    {
      "cell_type": "code",
      "execution_count": null,
      "metadata": {
        "colab": {
          "base_uri": "https://localhost:8080/"
        },
        "id": "QeBUTUBMIqwJ",
        "outputId": "d27d0df3-7ee9-42ba-ec86-12a662b340f3"
      },
      "outputs": [],
      "source": [
        "# Converting our val_preds into val_pred_labels\n",
        "val_pred_labels = []\n",
        "for i in val_preds:\n",
        "  val_pred_labels.append(classes[i])\n",
        "\n",
        "val_pred_labels[:5]"
      ]
    },
    {
      "cell_type": "code",
      "execution_count": null,
      "metadata": {
        "colab": {
          "base_uri": "https://localhost:8080/"
        },
        "id": "sV_7fPBGKD40",
        "outputId": "5b011ca0-98fd-4129-889b-29bffa5c28ed"
      },
      "outputs": [],
      "source": [
        "len(val_pred_labels)"
      ]
    },
    {
      "cell_type": "code",
      "execution_count": null,
      "metadata": {
        "colab": {
          "base_uri": "https://localhost:8080/"
        },
        "id": "KMPBkYQRKE4R",
        "outputId": "7da157f3-cbe1-4969-fa2c-e0eea3d5ffc5"
      },
      "outputs": [],
      "source": [
        "# Creating arrays for wrong predictions\n",
        "wrng_file_paths = []\n",
        "wrng_pred_prob = []\n",
        "wrng_pred = []\n",
        "actual_label = []\n",
        "for i in range(len(val_labels)):\n",
        "  if not val_labels[i] == val_pred_labels[i]:\n",
        "    wrng_file_paths.append(val_file_paths[i])\n",
        "    wrng_pred.append(val_pred_labels[i])\n",
        "    wrng_pred_prob.append(np.max(val_pred_prob[i]))\n",
        "    actual_label.append(val_labels[i])\n",
        "\n",
        "len(wrng_file_paths), len(wrng_pred_prob), len(wrng_pred), len(actual_label)"
      ]
    },
    {
      "cell_type": "code",
      "execution_count": null,
      "metadata": {
        "colab": {
          "base_uri": "https://localhost:8080/",
          "height": 206
        },
        "id": "9kuIY6SsLvBD",
        "outputId": "2d680f24-c1da-41b7-97e7-22634f8ed21f"
      },
      "outputs": [],
      "source": [
        "# Dataframe for wrong predicted signs\n",
        "wrng_val_df = pd.DataFrame({\"File Paths\": wrng_file_paths,\n",
        "                            \"Label\": actual_label,\n",
        "                            \"Pred\": wrng_pred,\n",
        "                            \"Wrong Pred Prob\": wrng_pred_prob})\n",
        "wrng_val_df.head()"
      ]
    },
    {
      "cell_type": "code",
      "execution_count": null,
      "metadata": {
        "id": "qpIqdchBPIPw"
      },
      "outputs": [],
      "source": [
        "# Saving the dataframe as csv\n",
        "wrng_val_df.to_csv(\"Wrong-predictions\")"
      ]
    },
    {
      "attachments": {},
      "cell_type": "markdown",
      "metadata": {
        "id": "nSoNWT-MQY_F"
      },
      "source": [
        "## Plotting wrong images"
      ]
    },
    {
      "cell_type": "code",
      "execution_count": null,
      "metadata": {
        "colab": {
          "base_uri": "https://localhost:8080/",
          "height": 714
        },
        "id": "s0GTHnVxQqs3",
        "outputId": "6a3b68a5-96d6-4c3a-bf9a-e770dfe163b3"
      },
      "outputs": [],
      "source": [
        "# Plotting wrongly predicted images\n",
        "plt.figure(figsize=(17, 12))\n",
        "random_arr = random.sample(wrng_file_paths, 12)\n",
        "for i in range(12):\n",
        "  index = np.where(np.array(wrng_file_paths) == random_arr[i])[0][0]\n",
        "  filepath = wrng_file_paths[index]\n",
        "  label = actual_label[index]\n",
        "  pred = wrng_pred[index]\n",
        "  prob = wrng_pred_prob[index]\n",
        "  _title_ = f\"Actual: {label}, \\nPred: {pred}, Prob: {prob:.2f}\"\n",
        "\n",
        "  # Plotting the image\n",
        "  plt.subplot(3, 4, i+1)\n",
        "  img = plt.imread(filepath)\n",
        "  plt.imshow(img)\n",
        "  plt.axis(False)\n",
        "  plt.title(_title_, color=\"red\");"
      ]
    },
    {
      "cell_type": "code",
      "execution_count": null,
      "metadata": {
        "colab": {
          "base_uri": "https://localhost:8080/",
          "height": 301
        },
        "id": "HmmVoZQ2RqAp",
        "outputId": "0d26b0b3-ee38-4292-cf59-1482b431d7cb"
      },
      "outputs": [],
      "source": [
        "# To check how similar the two signs are\n",
        "plot_letter(\"Q\", \"P\")"
      ]
    },
    {
      "attachments": {},
      "cell_type": "markdown",
      "metadata": {
        "id": "-qoBHqx9VxVm"
      },
      "source": [
        "## Prediction on test images"
      ]
    },
    {
      "cell_type": "code",
      "execution_count": null,
      "metadata": {
        "id": "323iVBZ-WAPO"
      },
      "outputs": [],
      "source": [
        "# Creating a preprocessing function\n",
        "def load_and_preprocess(filepath):\n",
        "  img = tf.io.read_file(filepath)\n",
        "  img = tf.io.decode_image(img)\n",
        "  img = tf.image.resize(img, (200, 200))\n",
        "\n",
        "  return img"
      ]
    },
    {
      "cell_type": "code",
      "execution_count": null,
      "metadata": {
        "id": "cNu9Wh9NUxRf"
      },
      "outputs": [],
      "source": [
        "test_dir = \"/content/asl_alphabet_test/asl_alphabet_test\"\n",
        "test_fp = os.listdir(test_dir)"
      ]
    },
    {
      "cell_type": "code",
      "execution_count": null,
      "metadata": {
        "colab": {
          "base_uri": "https://localhost:8080/",
          "height": 35
        },
        "id": "UowFO94DWpTk",
        "outputId": "4cc4093e-bad1-4305-a97e-089becfd74fd"
      },
      "outputs": [],
      "source": [
        "test_fp[2][0]"
      ]
    },
    {
      "cell_type": "code",
      "execution_count": null,
      "metadata": {
        "id": "b1htaQS5dTq7"
      },
      "outputs": [],
      "source": [
        "test_fp[0].split(\"_\")[0]"
      ]
    },
    {
      "cell_type": "code",
      "execution_count": null,
      "metadata": {
        "colab": {
          "base_uri": "https://localhost:8080/"
        },
        "id": "WXSCP9vKV8sU",
        "outputId": "36fff12b-7d62-4c80-ac78-165d7069f858"
      },
      "outputs": [],
      "source": [
        "# Creating labels of test images\n",
        "test_labels = []\n",
        "for elem in test_fp:\n",
        "  test_labels.append(elem.split(\"_\")[0])\n",
        "\n",
        "len(test_labels)"
      ]
    },
    {
      "cell_type": "code",
      "execution_count": null,
      "metadata": {
        "colab": {
          "base_uri": "https://localhost:8080/"
        },
        "id": "AJFedmXIXAMy",
        "outputId": "849c2c4e-955e-4d9f-ef9c-2c713d9eebec"
      },
      "outputs": [],
      "source": [
        "test_labels[:5]"
      ]
    },
    {
      "cell_type": "code",
      "execution_count": null,
      "metadata": {
        "id": "zAeW37nuXQiW"
      },
      "outputs": [],
      "source": [
        "test_df = pd.DataFrame({\"filepath\": test_fp,\n",
        "                        \"labels\": test_labels})"
      ]
    },
    {
      "cell_type": "code",
      "execution_count": null,
      "metadata": {
        "colab": {
          "base_uri": "https://localhost:8080/",
          "height": 206
        },
        "id": "kZgJhpM2XsC0",
        "outputId": "4cea49db-0800-4859-8b2e-ad5cbc68d284"
      },
      "outputs": [],
      "source": [
        "test_df.head()"
      ]
    },
    {
      "cell_type": "code",
      "execution_count": null,
      "metadata": {
        "colab": {
          "base_uri": "https://localhost:8080/"
        },
        "id": "MD6gOQK7XtpH",
        "outputId": "cd5dde7e-a2aa-453c-a410-7fd7c8b57815"
      },
      "outputs": [],
      "source": [
        "# Creating test data gen\n",
        "test_data = data_gen.flow_from_dataframe(test_df,\n",
        "                                         \"/content/asl_alphabet_test/asl_alphabet_test\",\n",
        "                                         x_col=\"filepath\",\n",
        "                                         y_col=\"labels\",\n",
        "                                         shuffle=False,\n",
        "                                         target_size=(200, 200))\n",
        "len(test_data)"
      ]
    },
    {
      "cell_type": "code",
      "execution_count": null,
      "metadata": {
        "colab": {
          "base_uri": "https://localhost:8080/"
        },
        "id": "NrsqiyZaYNkq",
        "outputId": "b5ab75b4-18b3-4b8f-f703-99949f838643"
      },
      "outputs": [],
      "source": [
        "# predictions on test data\n",
        "test_prob_preds = model.predict(test_data)\n",
        "test_prob_preds"
      ]
    },
    {
      "cell_type": "code",
      "execution_count": null,
      "metadata": {
        "colab": {
          "base_uri": "https://localhost:8080/"
        },
        "id": "372KP3cGYaSk",
        "outputId": "24b08575-bfb1-4496-c7ad-c69442eb7eb0"
      },
      "outputs": [],
      "source": [
        "test_preds = tf.argmax(test_prob_preds, axis=1)\n",
        "test_preds"
      ]
    },
    {
      "cell_type": "code",
      "execution_count": null,
      "metadata": {
        "colab": {
          "base_uri": "https://localhost:8080/"
        },
        "id": "N-SAp188Y0nK",
        "outputId": "aa97010f-a55c-4809-f267-1c2add165588"
      },
      "outputs": [],
      "source": [
        "# Converting our test_preds into test_pred_labels\n",
        "test_pred_labels = []\n",
        "for i in test_preds:\n",
        "  test_pred_labels.append(classes[i])\n",
        "\n",
        "test_pred_labels[:5]"
      ]
    },
    {
      "cell_type": "code",
      "execution_count": null,
      "metadata": {
        "colab": {
          "base_uri": "https://localhost:8080/"
        },
        "id": "mYo_ITF-ZPDZ",
        "outputId": "c2f5f306-9104-4cb3-d636-91ab0146e44c"
      },
      "outputs": [],
      "source": [
        "len(test_labels), len(test_pred_labels)"
      ]
    },
    {
      "attachments": {},
      "cell_type": "markdown",
      "metadata": {
        "id": "4J1Epk0gdobi"
      },
      "source": [
        "## Plotting Predictions on all test images"
      ]
    },
    {
      "cell_type": "code",
      "execution_count": null,
      "metadata": {
        "colab": {
          "base_uri": "https://localhost:8080/",
          "height": 714
        },
        "id": "xbDaqPcgZXDK",
        "outputId": "db13a2a0-4f5b-433d-82dd-bad57cac58c0"
      },
      "outputs": [],
      "source": [
        "# Plotting predictions on test data\n",
        "plt.figure(figsize=(17, 12))\n",
        "for i in range(12):\n",
        "  filepath = test_dir + \"/\" + test_fp[i]\n",
        "  prob = np.max(test_prob_preds[i])\n",
        "  label = test_labels[i]\n",
        "  pred = test_pred_labels[i]\n",
        "  _title_ = f\"Actual: {label}, \\nPred: {pred}, Prob: {prob:.2f}\"\n",
        "  col = \"green\" if label == pred else \"red\"\n",
        "\n",
        "  # Plotting \n",
        "  plt.subplot(3, 4, i+1)\n",
        "  img = plt.imread(filepath)\n",
        "  plt.imshow(img)\n",
        "  plt.axis(False)\n",
        "  plt.title(_title_, color=col);"
      ]
    },
    {
      "cell_type": "code",
      "execution_count": null,
      "metadata": {
        "colab": {
          "base_uri": "https://localhost:8080/",
          "height": 714
        },
        "id": "Q0G3kAFGapDq",
        "outputId": "827dd795-08ff-4aed-8379-c190394c3dda"
      },
      "outputs": [],
      "source": [
        "# Plotting predictions on test data\n",
        "i_ = 12\n",
        "plt.figure(figsize=(17, 12))\n",
        "for i in range(12):\n",
        "  i_ += 1\n",
        "  filepath = test_dir + \"/\" + test_fp[i_]\n",
        "  prob = np.max(test_prob_preds[i_])\n",
        "  label = test_labels[i_]\n",
        "  pred = test_pred_labels[i_]\n",
        "  _title_ = f\"Actual: {label}, \\nPred: {pred}, Prob: {prob:.2f}\"\n",
        "  col = \"green\" if label == pred else \"red\"\n",
        "\n",
        "  # Plotting \n",
        "  plt.subplot(3, 4, i+1)\n",
        "  img = plt.imread(filepath)\n",
        "  plt.imshow(img)\n",
        "  plt.axis(False)\n",
        "  plt.title(_title_, color=col);"
      ]
    },
    {
      "cell_type": "code",
      "execution_count": null,
      "metadata": {
        "colab": {
          "base_uri": "https://localhost:8080/",
          "height": 268
        },
        "id": "1T3_QrlNbCnx",
        "outputId": "2d7229a6-bc08-4de7-b685-e19339b21381"
      },
      "outputs": [],
      "source": [
        "# Plotting predictions on test data\n",
        "i_ = 24\n",
        "plt.figure(figsize=(17, 4))\n",
        "for i in range(3):\n",
        "  i_ += 1\n",
        "  filepath = test_dir + \"/\" + test_fp[i_]\n",
        "  prob = np.max(test_prob_preds[i_])\n",
        "  label = test_labels[i_]\n",
        "  pred = test_pred_labels[i_]\n",
        "  _title_ = f\"Actual: {label}, \\nPred: {pred}, Prob: {prob:.2f}\"\n",
        "  col = \"green\" if label == pred else \"red\"\n",
        "\n",
        "  # Plotting \n",
        "  plt.subplot(1, 4, i+1)\n",
        "  img = plt.imread(filepath)\n",
        "  plt.imshow(img)\n",
        "  plt.axis(False)\n",
        "  plt.title(_title_, color=col);"
      ]
    },
    {
      "cell_type": "code",
      "execution_count": null,
      "metadata": {
        "id": "V7ZB1pMrhohf"
      },
      "outputs": [],
      "source": [
        "# Encoding labels in numbers\n",
        "num_labels = []\n",
        "for i in test_labels:\n",
        "  lab = np.where(np.array(classes) == i)[0][0]\n",
        "  num_labels.append(lab)"
      ]
    },
    {
      "cell_type": "code",
      "execution_count": null,
      "metadata": {
        "colab": {
          "base_uri": "https://localhost:8080/",
          "height": 1000
        },
        "id": "9XoUQCPHcJ9M",
        "outputId": "06c4343b-7c35-4d84-aa2b-82c8e186226d"
      },
      "outputs": [],
      "source": [
        "# Confusion matrix for test dataset\n",
        "make_confusion_matrix(y_true=num_labels,\n",
        "                      y_pred=test_preds.numpy(),\n",
        "                      classes=classes,\n",
        "                      figsize=(50, 50))"
      ]
    },
    {
      "cell_type": "code",
      "execution_count": null,
      "metadata": {
        "id": "b7ujhGNWhFu3"
      },
      "outputs": [],
      "source": []
    }
  ],
  "metadata": {
    "accelerator": "GPU",
    "colab": {
      "name": "American-Sign-Language-Recognition.ipynb",
      "provenance": []
    },
    "kernelspec": {
      "display_name": "Python 3",
      "name": "python3"
    },
    "language_info": {
      "codemirror_mode": {
        "name": "ipython",
        "version": 3
      },
      "file_extension": ".py",
      "mimetype": "text/x-python",
      "name": "python",
      "nbconvert_exporter": "python",
      "pygments_lexer": "ipython3",
      "version": "3.11.1"
    }
  },
  "nbformat": 4,
  "nbformat_minor": 0
}
